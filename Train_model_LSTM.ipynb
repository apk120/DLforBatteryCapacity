{
 "cells": [
  {
   "cell_type": "code",
   "execution_count": 1,
   "metadata": {},
   "outputs": [],
   "source": [
    "import torch\n",
    "import torch.nn as nn\n",
    "import pandas as pd\n",
    "import numpy as np\n",
    "import matplotlib.pyplot as plt"
   ]
  },
  {
   "cell_type": "code",
   "execution_count": 2,
   "metadata": {},
   "outputs": [
    {
     "name": "stdout",
     "output_type": "stream",
     "text": [
      "cuda:0\n"
     ]
    }
   ],
   "source": [
    "device = torch.device('cuda:0' if torch.cuda.is_available() else 'cpu')\n",
    "print (device)"
   ]
  },
  {
   "cell_type": "code",
   "execution_count": 3,
   "metadata": {},
   "outputs": [],
   "source": [
    "#load data\n",
    "train_df = pd.read_excel('train.xlsx')\n",
    "test_df = pd.read_excel('test.xlsx')"
   ]
  },
  {
   "cell_type": "code",
   "execution_count": 4,
   "metadata": {},
   "outputs": [],
   "source": [
    "train_cycles = list(set(np.array(train_df['Cycle_Index'])))\n",
    "test_cycles = list(set(np.array(test_df['Cycle_Index'])))"
   ]
  },
  {
   "cell_type": "code",
   "execution_count": 5,
   "metadata": {},
   "outputs": [],
   "source": [
    "train_voltage = []\n",
    "train_current = []\n",
    "train_temp = []\n",
    "train_charge_cap = []\n",
    "train_discharge_cap = []\n",
    "for i in train_cycles:\n",
    "    dat = train_df[train_df['Cycle_Index'] == i]\n",
    "    train_voltage.append(np.array(dat['Voltage(V)']).tolist())\n",
    "    train_current.append(np.array(dat['Current(A)']).tolist())\n",
    "    train_temp.append(np.array(dat['Aux_Temperature(℃)_1']).tolist())\n",
    "    train_charge_cap.append(np.array(dat['Charge_Capacity(Ah)']).tolist())\n",
    "    train_discharge_cap.append(np.array(dat['Discharge_Capacity(Ah)']))\n",
    "    \n",
    "#maximum length of time series is 362, so prepend zeros to make same length\n",
    "train_data =[]\n",
    "d1 = []\n",
    "d2 =[]\n",
    "d3 =[]\n",
    "d4 = []\n",
    "for i in range(0, len(train_cycles)):\n",
    "    d1 = (list(np.zeros(362-len(train_voltage[i]))) + list(train_voltage[i]))\n",
    "    d2 = (list(np.zeros(362-len(train_current[i]))) + list(train_current[i]))\n",
    "    d3 = (list(np.zeros(362-len(train_charge_cap[i]))) + list(train_charge_cap[i]))\n",
    "    d4 = list(np.zeros(362-len(train_temp[i]))) + list(train_temp[i])\n",
    "    d = [d1, d2, d3, d4]\n",
    "    train_data.append(np.transpose(d))\n",
    "train_data = np.array(train_data)\n",
    "\n",
    "\n",
    "train_labels = [train_discharge_cap[i][-1] for i in range(0, len(train_discharge_cap))]"
   ]
  },
  {
   "cell_type": "code",
   "execution_count": 6,
   "metadata": {},
   "outputs": [
    {
     "name": "stdout",
     "output_type": "stream",
     "text": [
      "(171, 362, 4)\n"
     ]
    }
   ],
   "source": [
    "print (np.shape(train_data))\n",
    "#print (train_data)"
   ]
  },
  {
   "cell_type": "code",
   "execution_count": 7,
   "metadata": {},
   "outputs": [],
   "source": [
    "test_voltage = []\n",
    "test_current = []\n",
    "test_temp = []\n",
    "test_charge_cap = []\n",
    "test_discharge_cap = []\n",
    "for i in test_cycles:\n",
    "    dat = test_df[test_df['Cycle_Index'] == i]\n",
    "    test_voltage.append(np.array(dat['Voltage(V)']).tolist())\n",
    "    test_current.append(np.array(dat['Current(A)']).tolist())\n",
    "    test_temp.append(np.array(dat['Aux_Temperature(℃)_1']).tolist())\n",
    "    test_charge_cap.append(np.array(dat['Charge_Capacity(Ah)']).tolist())\n",
    "    test_discharge_cap.append(np.array(dat['Discharge_Capacity(Ah)']))\n",
    "    \n",
    "#maximum length of time series is 362, so prepend zeros to make same length\n",
    "test_data =[]\n",
    "d1 = []\n",
    "d2 =[]\n",
    "d3 =[]\n",
    "d4 = []\n",
    "for i in range(0, len(test_cycles)):\n",
    "    d1 = (list(np.zeros(362-len(test_voltage[i]))) + list(test_voltage[i]))\n",
    "    d2 = (list(np.zeros(362-len(test_current[i]))) + list(test_current[i]))\n",
    "    d3 = (list(np.zeros(362-len(test_charge_cap[i]))) + list(test_charge_cap[i]))\n",
    "    d4 = list(np.zeros(362-len(test_temp[i]))) + list(test_temp[i])\n",
    "    d = [d1, d2, d3, d4]\n",
    "    test_data.append(np.transpose(d))\n",
    "test_data = np.array(test_data)\n",
    "\n",
    "\n",
    "test_labels = [test_discharge_cap[i][-1] for i in range(0, len(test_discharge_cap))]"
   ]
  },
  {
   "cell_type": "code",
   "execution_count": 8,
   "metadata": {},
   "outputs": [
    {
     "name": "stdout",
     "output_type": "stream",
     "text": [
      "(43, 362, 4)\n"
     ]
    }
   ],
   "source": [
    "print (np.shape(test_data))"
   ]
  },
  {
   "cell_type": "code",
   "execution_count": 9,
   "metadata": {},
   "outputs": [],
   "source": [
    "train_tensor = torch.tensor(train_data)\n",
    "test_tensor = torch.tensor(test_data)\n",
    "train_label = torch.tensor(train_labels)\n",
    "test_label = torch.tensor(test_labels)"
   ]
  },
  {
   "cell_type": "code",
   "execution_count": 10,
   "metadata": {},
   "outputs": [],
   "source": [
    "train_label = train_label.view(171, 1) \n",
    "test_label = test_label.view(43, 1)"
   ]
  },
  {
   "cell_type": "code",
   "execution_count": 11,
   "metadata": {},
   "outputs": [
    {
     "name": "stdout",
     "output_type": "stream",
     "text": [
      "torch.Size([171, 1])\n",
      "torch.Size([43, 1])\n",
      "(171, 362, 4)\n"
     ]
    }
   ],
   "source": [
    "print (train_label.shape)\n",
    "print (test_label.shape)\n",
    "print(np.shape(train_data))"
   ]
  },
  {
   "cell_type": "code",
   "execution_count": 51,
   "metadata": {},
   "outputs": [],
   "source": [
    "#define the LSTM model\n",
    "class LSTMNet(nn.Module):\n",
    "    def __init__(self, input_size = 4, seq_len =362, hidden_layer_size = 16, num_layers = 1, output_size = 1, batch_size = 1):\n",
    "        super(LSTMNet, self).__init__()\n",
    "        \n",
    "        self.hidden_layer_size = hidden_layer_size\n",
    "        \n",
    "        self.lstm = nn.LSTM(input_size, hidden_layer_size, num_layers, batch_first = True)\n",
    "        \n",
    "        self.linear1 = nn.Linear(seq_len*hidden_layer_size, 128)\n",
    "        \n",
    "        self.linear2 = nn.Linear(128, 64)\n",
    "        \n",
    "        self.linear3 = nn.Linear(64, 16)\n",
    "        \n",
    "        self.linear4 = nn.Linear(16, 1)\n",
    "        \n",
    "        self.hidden_cell = (torch.zeros(num_layers, batch_size , self.hidden_layer_size), \n",
    "                            torch.zeros(num_layers, batch_size, self.hidden_layer_size))\n",
    "        \n",
    "    def forward(self, x):\n",
    "        \n",
    "        lstm_out, self.hidden_cell = self.lstm(x, self.hidden_cell)\n",
    "        \n",
    "        lstm_out = lstm_out.reshape(1, -1)\n",
    "        \n",
    "        out = self.linear1(lstm_out)\n",
    "        \n",
    "        out = self.linear2(out)\n",
    "        \n",
    "        out = self.linear3(out)\n",
    "        \n",
    "        out = self.linear4(out)\n",
    "        \n",
    "        \n",
    "        return out[-1]\n"
   ]
  },
  {
   "cell_type": "code",
   "execution_count": 47,
   "metadata": {},
   "outputs": [],
   "source": [
    "class RMSELoss(torch.nn.Module):\n",
    "    def __init__(self):\n",
    "        super(RMSELoss,self).__init__()\n",
    "\n",
    "    def forward(self,x,y):\n",
    "        criterion = nn.MSELoss()\n",
    "        loss = torch.sqrt(criterion(x, y))\n",
    "        return loss"
   ]
  },
  {
   "cell_type": "code",
   "execution_count": 62,
   "metadata": {},
   "outputs": [],
   "source": [
    "model = LSTMNet()\n",
    "criterion = RMSELoss()\n",
    "optimizer = torch.optim.Adam(model.parameters(), lr=0.000001)"
   ]
  },
  {
   "cell_type": "code",
   "execution_count": 54,
   "metadata": {},
   "outputs": [
    {
     "name": "stdout",
     "output_type": "stream",
     "text": [
      "LSTMNet(\n",
      "  (lstm): LSTM(4, 16, batch_first=True)\n",
      "  (linear1): Linear(in_features=5792, out_features=128, bias=True)\n",
      "  (linear2): Linear(in_features=128, out_features=64, bias=True)\n",
      "  (linear3): Linear(in_features=64, out_features=16, bias=True)\n",
      "  (linear4): Linear(in_features=16, out_features=1, bias=True)\n",
      ")\n"
     ]
    }
   ],
   "source": [
    "print (model)"
   ]
  },
  {
   "cell_type": "code",
   "execution_count": 63,
   "metadata": {},
   "outputs": [
    {
     "name": "stdout",
     "output_type": "stream",
     "text": [
      "0 2.258668828428837 2.0310011935788532\n",
      "1 1.8859710728215893 1.6373879216438116\n",
      "2 1.4552177448718868 1.1776339231535446\n",
      "3 0.953324542408101 0.6447467665339626\n",
      "4 0.4087290784768891 0.1844145419985749\n",
      "5 0.13001056721335963 0.14448073852893917\n",
      "6 0.10529708653165583 0.13450955512911775\n",
      "7 0.09534620820430287 0.12524981276933536\n",
      "8 0.08907900079649095 0.11645566308221152\n",
      "9 0.08338423012292873 0.1097571239915005\n",
      "10 0.07706657696885673 0.11048365470974944\n",
      "11 0.07707081900702582 0.10515037248300951\n",
      "12 0.07427535837853862 0.09914682632268862\n",
      "13 0.07005789056856032 0.09084346405295439\n",
      "14 0.06548823529516744 0.08487100933873376\n",
      "15 0.06205662858416462 0.08025609615237214\n",
      "16 0.058736163970322636 0.07699384800223417\n",
      "17 0.05676253218399851 0.07255531189053557\n",
      "18 0.05531669848146494 0.06690026161282561\n",
      "19 0.05286384116836459 0.06323064205258391\n",
      "20 0.050728227659972785 0.061163173165432246\n",
      "21 0.04974774101324249 0.05779755669970845\n",
      "22 0.04840702550453052 0.05426992094793985\n",
      "23 0.04770407760352419 0.051278408183607946\n",
      "24 0.04637852816553841 0.05032146254251169\n",
      "25 0.04541540215587058 0.04948478798533595\n",
      "26 0.0450723519799305 0.045842367549275245\n",
      "27 0.044206947611089335 0.0451137991838677\n",
      "28 0.04305288387320892 0.04477617352507835\n",
      "29 0.0427181337311951 0.04426489597143129\n",
      "30 0.04157937200445878 0.04197224628093631\n",
      "31 0.04095047468330428 0.041791364204051884\n",
      "32 0.04078264682613618 0.0382182099098383\n",
      "33 0.039810887554235626 0.03811183918354123\n",
      "34 0.03894338342878553 0.03425188120021377\n",
      "35 0.038428319127936116 0.03362334606259368\n",
      "36 0.037256797851874815 0.03282207943672358\n",
      "37 0.037398194011889006 0.03176638137462527\n",
      "38 0.035957964540225026 0.030977903410445814\n",
      "39 0.0355154708114981 0.03142145899839179\n",
      "40 0.03493163669318484 0.029444101244904274\n",
      "41 0.03403290809943662 0.029832266097845034\n",
      "42 0.03402868000387448 0.02791097829508227\n",
      "43 0.033162222968207464 0.0279356601626374\n",
      "44 0.03246085197604888 0.026661764743716218\n",
      "45 0.03139323030996044 0.0268526132716689\n",
      "46 0.030961070144385622 0.0259406705235326\n",
      "47 0.030670853386148375 0.02549608918123467\n",
      "48 0.029291198964704546 0.025686652161354243\n",
      "49 0.02923820520702161 0.025290494741395463\n",
      "50 0.02861789165184512 0.024247990098110465\n",
      "51 0.028014241603382846 0.02342583135116932\n",
      "52 0.027266203311451694 0.023766772691593614\n",
      "53 0.02667901251051161 0.022722884666088017\n",
      "54 0.026046974617138244 0.022170424461364746\n",
      "55 0.025881946435448718 0.021233489347058675\n",
      "56 0.02533001579039278 0.021158867104108945\n",
      "57 0.02511944129453068 0.019961207412010015\n",
      "58 0.024474558077360455 0.019394076147744823\n",
      "59 0.024255436066298458 0.018816016441167788\n",
      "60 0.023601695808053713 0.01826383069504139\n",
      "61 0.02320466125220583 0.0184833615325218\n",
      "62 0.022420617572048253 0.017661740613538167\n",
      "63 0.02192356572513692 0.017551047857417616\n",
      "64 0.022163998313814576 0.018508079440094704\n",
      "65 0.021168481536776 0.01821238218351852\n",
      "66 0.021025023962322035 0.017638630645219668\n",
      "67 0.02004539896870217 0.017520050669825354\n",
      "68 0.019806619276080215 0.017432276592698207\n",
      "69 0.02001063586675633 0.018199765404989552\n",
      "70 0.019600272178649902 0.019990580026493517\n",
      "71 0.019041916083174144 0.019809487254120583\n",
      "72 0.01887766729321396 0.019843650418658588\n",
      "73 0.017995926371791905 0.016481252603752668\n",
      "74 0.018078503552933185 0.01666606858719227\n",
      "75 0.017564680841233995 0.014629480450652366\n",
      "76 0.017332660524468673 0.015072193256644316\n",
      "77 0.01728659833383839 0.0178592371386151\n",
      "78 0.016962041631776687 0.0157509820405827\n",
      "79 0.017072905573928564 0.017464598944020825\n",
      "80 0.016908649115534555 0.014901075252266817\n",
      "81 0.016712257736607602 0.01580891221068626\n",
      "82 0.016740428076850042 0.014183022255121275\n",
      "83 0.01644928134672823 0.014920653298843739\n",
      "84 0.0163327413692809 0.015740968460260435\n",
      "85 0.016510506122432954 0.017044408376826796\n",
      "86 0.01609132931246395 0.014967264131058094\n",
      "87 0.01636403833913524 0.016175810680832972\n",
      "88 0.016113020523249755 0.01820317534513252\n",
      "89 0.016223100193759853 0.017868818238724108\n",
      "90 0.016063259358991656 0.01691629443057748\n",
      "91 0.015928173622889827 0.017983686092287995\n",
      "92 0.01559645111797846 0.016256964483926464\n",
      "93 0.015774529579787228 0.018454845561537633\n",
      "94 0.015477880399826675 0.018086580343024676\n",
      "95 0.015493547707273249 0.017778673837351246\n",
      "96 0.015310657651800858 0.017464474190113155\n",
      "97 0.015515044418691892 0.018230316250823265\n",
      "98 0.01509327707234879 0.017049520514732183\n",
      "99 0.01509724932107312 0.01746531419975813\n"
     ]
    }
   ],
   "source": [
    "loss_list_train = []\n",
    "loss_list_test = []\n",
    "for epoch in range(0, 100):\n",
    "    loss_list = []\n",
    "    for i in range(0, len(train_tensor)):\n",
    "        \n",
    "        #forward pass\n",
    "        model.hidden_cell = (torch.zeros(1, 1, model.hidden_layer_size),\n",
    "                        torch.zeros(1, 1, model.hidden_layer_size))\n",
    "        output = model(train_tensor[i].unsqueeze(0).float())\n",
    "        loss = criterion(output, train_label[i])\n",
    "        loss_list.append(loss.item())\n",
    "        #backward pass\n",
    "        optimizer.zero_grad()\n",
    "        loss.backward()\n",
    "        optimizer.step()\n",
    "    loss_list_train.append(sum(loss_list)/len(loss_list))\n",
    "    \n",
    "    #prediction\n",
    "    with torch.no_grad():\n",
    "        loss_list =[]\n",
    "        for i in range(0, len(test_tensor)):\n",
    "            \n",
    "            test_out = model((test_tensor[i].unsqueeze(0)).float())\n",
    "            test_loss = criterion(test_out, test_label[i])\n",
    "            loss_list.append(test_loss.item())\n",
    "        loss_list_test.append(sum(loss_list)/len(loss_list))\n",
    "    print (epoch, loss_list_train[-1], loss_list_test[-1])"
   ]
  },
  {
   "cell_type": "code",
   "execution_count": 64,
   "metadata": {},
   "outputs": [
    {
     "data": {
      "text/plain": [
       "[<matplotlib.lines.Line2D at 0x7fbbb32668d0>]"
      ]
     },
     "execution_count": 64,
     "metadata": {},
     "output_type": "execute_result"
    },
    {
     "data": {
      "image/png": "[encoded data removed]",
      "text/plain": [
       "<Figure size 432x288 with 1 Axes>"
      ]
     },
     "metadata": {
      "needs_background": "light"
     },
     "output_type": "display_data"
    }
   ],
   "source": [
    "plt.plot(loss_list_train)\n",
    "plt.plot(loss_list_test)"
   ]
  },
  {
   "cell_type": "code",
   "execution_count": 65,
   "metadata": {},
   "outputs": [
    {
     "name": "stdout",
     "output_type": "stream",
     "text": [
      "[2.0310011935788532, 1.6373879216438116, 1.1776339231535446, 0.6447467665339626, 0.1844145419985749, 0.14448073852893917, 0.13450955512911775, 0.12524981276933536, 0.11645566308221152, 0.1097571239915005, 0.11048365470974944, 0.10515037248300951, 0.09914682632268862, 0.09084346405295439, 0.08487100933873376, 0.08025609615237214, 0.07699384800223417, 0.07255531189053557, 0.06690026161282561, 0.06323064205258391, 0.061163173165432246, 0.05779755669970845, 0.05426992094793985, 0.051278408183607946, 0.05032146254251169, 0.04948478798533595, 0.045842367549275245, 0.0451137991838677, 0.04477617352507835, 0.04426489597143129, 0.04197224628093631, 0.041791364204051884, 0.0382182099098383, 0.03811183918354123, 0.03425188120021377, 0.03362334606259368, 0.03282207943672358, 0.03176638137462527, 0.030977903410445814, 0.03142145899839179, 0.029444101244904274, 0.029832266097845034, 0.02791097829508227, 0.0279356601626374, 0.026661764743716218, 0.0268526132716689, 0.0259406705235326, 0.02549608918123467, 0.025686652161354243, 0.025290494741395463, 0.024247990098110465, 0.02342583135116932, 0.023766772691593614, 0.022722884666088017, 0.022170424461364746, 0.021233489347058675, 0.021158867104108945, 0.019961207412010015, 0.019394076147744823, 0.018816016441167788, 0.01826383069504139, 0.0184833615325218, 0.017661740613538167, 0.017551047857417616, 0.018508079440094704, 0.01821238218351852, 0.017638630645219668, 0.017520050669825354, 0.017432276592698207, 0.018199765404989552, 0.019990580026493517, 0.019809487254120583, 0.019843650418658588, 0.016481252603752668, 0.01666606858719227, 0.014629480450652366, 0.015072193256644316, 0.0178592371386151, 0.0157509820405827, 0.017464598944020825, 0.014901075252266817, 0.01580891221068626, 0.014183022255121275, 0.014920653298843739, 0.015740968460260435, 0.017044408376826796, 0.014967264131058094, 0.016175810680832972, 0.01820317534513252, 0.017868818238724108, 0.01691629443057748, 0.017983686092287995, 0.016256964483926464, 0.018454845561537633, 0.018086580343024676, 0.017778673837351246, 0.017464474190113155, 0.018230316250823265, 0.017049520514732183, 0.01746531419975813]\n"
     ]
    }
   ],
   "source": [
    "print(loss_list_test)"
   ]
  },
  {
   "cell_type": "code",
   "execution_count": 66,
   "metadata": {},
   "outputs": [
    {
     "name": "stdout",
     "output_type": "stream",
     "text": [
      "tensor([2.1854]) tensor([2.1956])\n",
      "tensor([2.5116]) tensor([2.4790])\n",
      "tensor([2.3120]) tensor([2.3395])\n",
      "tensor([2.3154]) tensor([2.3422])\n",
      "tensor([2.4350]) tensor([2.4667])\n",
      "tensor([2.3133]) tensor([2.3406])\n",
      "tensor([2.0516]) tensor([2.0610])\n",
      "tensor([2.6355]) tensor([2.6542])\n",
      "tensor([2.3123]) tensor([2.3299])\n",
      "tensor([2.3084]) tensor([2.3289])\n",
      "tensor([2.0539]) tensor([2.0650])\n",
      "tensor([2.0288]) tensor([2.0358])\n",
      "tensor([2.0146]) tensor([2.0102])\n",
      "tensor([2.0023]) tensor([2.0231])\n",
      "tensor([2.6274]) tensor([2.6402])\n",
      "tensor([2.3035]) tensor([2.3338])\n",
      "tensor([1.8940]) tensor([1.8888])\n",
      "tensor([2.2991]) tensor([2.3194])\n",
      "tensor([1.8690]) tensor([1.8731])\n",
      "tensor([2.2934]) tensor([2.3109])\n",
      "tensor([1.8510]) tensor([1.8471])\n",
      "tensor([2.2940]) tensor([2.3207])\n",
      "tensor([2.2310]) tensor([2.3072])\n",
      "tensor([1.8050]) tensor([1.8193])\n",
      "tensor([1.7948]) tensor([1.8112])\n",
      "tensor([2.2739]) tensor([2.2663])\n",
      "tensor([1.7846]) tensor([1.8145])\n",
      "tensor([1.7818]) tensor([1.7895])\n",
      "tensor([2.2775]) tensor([2.2878])\n",
      "tensor([1.7573]) tensor([1.7871])\n",
      "tensor([1.7343]) tensor([1.7696])\n",
      "tensor([2.2558]) tensor([2.2663])\n",
      "tensor([2.2563]) tensor([2.2658])\n",
      "tensor([2.2546]) tensor([2.2548])\n",
      "tensor([2.2569]) tensor([2.2801])\n",
      "tensor([2.2288]) tensor([2.2211])\n",
      "tensor([2.2257]) tensor([2.2334])\n",
      "tensor([2.2249]) tensor([2.2417])\n",
      "tensor([2.2178]) tensor([2.2317])\n",
      "tensor([2.2113]) tensor([2.2338])\n",
      "tensor([2.5405]) tensor([2.5241])\n",
      "tensor([2.5302]) tensor([2.5239])\n",
      "tensor([2.5254]) tensor([2.5224])\n"
     ]
    }
   ],
   "source": [
    "#evaluate model\n",
    "model.eval()\n",
    "with torch.no_grad():\n",
    "    for i in range(0, len(test_tensor)):\n",
    "            \n",
    "        test_out = model((test_tensor[i].unsqueeze(0)).float())\n",
    "        test_loss = criterion(test_out, test_label[i])\n",
    "        print(test_label[i], test_out)\n"
   ]
  },
  {
   "cell_type": "code",
   "execution_count": 67,
   "metadata": {},
   "outputs": [
    {
     "name": "stdout",
     "output_type": "stream",
     "text": [
      "tensor([2.2862]) tensor(2.2638)\n",
      "tensor([2.2906]) tensor(2.3471)\n",
      "tensor([2.3079]) tensor(2.3482)\n",
      "tensor([2.3081]) tensor(2.3407)\n",
      "tensor([2.3189]) tensor(2.3535)\n",
      "tensor([2.3150]) tensor(2.3480)\n",
      "tensor([2.3246]) tensor(2.3556)\n",
      "tensor([2.3270]) tensor(2.3497)\n",
      "tensor([2.3241]) tensor(2.3501)\n",
      "tensor([2.3220]) tensor(2.3530)\n",
      "tensor([2.3158]) tensor(2.3446)\n",
      "tensor([2.3217]) tensor(2.3481)\n",
      "tensor([2.3225]) tensor(2.3551)\n",
      "tensor([2.3225]) tensor(2.3437)\n",
      "tensor([2.3321]) tensor(2.3540)\n",
      "tensor([2.6468]) tensor(2.7344)\n",
      "tensor([2.3245]) tensor(2.3339)\n",
      "tensor([2.3194]) tensor(2.3500)\n",
      "tensor([2.3210]) tensor(2.3503)\n",
      "tensor([2.3184]) tensor(2.3358)\n",
      "tensor([2.3203]) tensor(2.3377)\n",
      "tensor([2.3169]) tensor(2.3402)\n",
      "tensor([2.3198]) tensor(2.3498)\n",
      "tensor([2.6437]) tensor(2.6833)\n",
      "tensor([2.3209]) tensor(2.3494)\n",
      "tensor([2.3117]) tensor(2.3407)\n",
      "tensor([2.3193]) tensor(2.3542)\n",
      "tensor([2.3116]) tensor(2.3472)\n",
      "tensor([2.6385]) tensor(2.6724)\n",
      "tensor([2.3202]) tensor(2.3359)\n",
      "tensor([2.3146]) tensor(2.3262)\n",
      "tensor([2.6351]) tensor(2.6658)\n",
      "tensor([2.3189]) tensor(2.3477)\n",
      "tensor([2.3147]) tensor(2.3447)\n",
      "tensor([2.3087]) tensor(2.3346)\n",
      "tensor([2.3142]) tensor(2.3385)\n",
      "tensor([2.2975]) tensor(2.3157)\n",
      "tensor([2.3024]) tensor(2.3135)\n",
      "tensor([2.3053]) tensor(2.3391)\n",
      "tensor([2.6251]) tensor(2.6553)\n",
      "tensor([2.3110]) tensor(2.3251)\n",
      "tensor([2.3093]) tensor(2.3250)\n",
      "tensor([2.3089]) tensor(2.3262)\n",
      "tensor([2.6254]) tensor(2.6543)\n",
      "tensor([2.3064]) tensor(2.3254)\n",
      "tensor([2.3019]) tensor(2.3263)\n",
      "tensor([2.3047]) tensor(2.3084)\n",
      "tensor([2.6221]) tensor(2.6268)\n",
      "tensor([2.3007]) tensor(2.3098)\n",
      "tensor([2.2985]) tensor(2.3327)\n",
      "tensor([2.6163]) tensor(2.6252)\n",
      "tensor([2.2983]) tensor(2.3328)\n",
      "tensor([2.2970]) tensor(2.3072)\n",
      "tensor([2.2933]) tensor(2.3277)\n",
      "tensor([2.2906]) tensor(2.3103)\n",
      "tensor([2.2868]) tensor(2.2949)\n",
      "tensor([2.2666]) tensor(2.2786)\n",
      "tensor([2.2818]) tensor(2.2943)\n",
      "tensor([2.6010]) tensor(2.5885)\n",
      "tensor([2.2773]) tensor(2.2827)\n",
      "tensor([2.2773]) tensor(2.2836)\n",
      "tensor([2.5960]) tensor(2.6226)\n",
      "tensor([2.2813]) tensor(2.2931)\n",
      "tensor([2.2712]) tensor(2.2751)\n",
      "tensor([2.2785]) tensor(2.3071)\n",
      "tensor([2.5971]) tensor(2.5889)\n",
      "tensor([2.2793]) tensor(2.2912)\n",
      "tensor([2.2776]) tensor(2.2745)\n",
      "tensor([2.5937]) tensor(2.5261)\n",
      "tensor([2.2743]) tensor(2.2913)\n",
      "tensor([2.2709]) tensor(2.2629)\n",
      "tensor([2.2716]) tensor(2.2757)\n",
      "tensor([2.2659]) tensor(2.2925)\n",
      "tensor([2.5845]) tensor(2.5675)\n",
      "tensor([2.2630]) tensor(2.2647)\n",
      "tensor([2.2538]) tensor(2.2855)\n",
      "tensor([2.5830]) tensor(2.5677)\n",
      "tensor([2.2638]) tensor(2.2748)\n",
      "tensor([2.2477]) tensor(2.2570)\n",
      "tensor([2.2525]) tensor(2.2558)\n",
      "tensor([2.2434]) tensor(2.2667)\n",
      "tensor([2.2478]) tensor(2.2563)\n",
      "tensor([2.2461]) tensor(2.2648)\n",
      "tensor([2.5698]) tensor(2.5466)\n",
      "tensor([2.2445]) tensor(2.2579)\n",
      "tensor([2.2401]) tensor(2.2420)\n",
      "tensor([2.2397]) tensor(2.2431)\n",
      "tensor([2.2320]) tensor(2.2593)\n",
      "tensor([2.2367]) tensor(2.2320)\n",
      "tensor([2.5613]) tensor(2.5668)\n",
      "tensor([2.2367]) tensor(2.2542)\n",
      "tensor([2.5593]) tensor(2.5684)\n",
      "tensor([2.2353]) tensor(2.2394)\n",
      "tensor([2.2346]) tensor(2.2297)\n",
      "tensor([2.2294]) tensor(2.2177)\n",
      "tensor([2.2209]) tensor(2.2300)\n",
      "tensor([2.2161]) tensor(2.2213)\n",
      "tensor([2.2094]) tensor(2.2319)\n",
      "tensor([2.2070]) tensor(2.2065)\n",
      "tensor([2.2042]) tensor(2.2069)\n",
      "tensor([2.1998]) tensor(2.2216)\n",
      "tensor([2.1875]) tensor(2.1965)\n",
      "tensor([2.5205]) tensor(2.4786)\n",
      "tensor([2.1773]) tensor(2.1970)\n",
      "tensor([2.1810]) tensor(2.1937)\n",
      "tensor([2.5158]) tensor(2.4806)\n",
      "tensor([2.1781]) tensor(2.1702)\n",
      "tensor([2.1671]) tensor(2.1952)\n",
      "tensor([2.1706]) tensor(2.1698)\n",
      "tensor([2.1584]) tensor(2.1614)\n",
      "tensor([2.5017]) tensor(2.4786)\n",
      "tensor([2.1607]) tensor(2.1577)\n",
      "tensor([2.1614]) tensor(2.1702)\n",
      "tensor([2.1548]) tensor(2.1582)\n",
      "tensor([2.1542]) tensor(2.1684)\n",
      "tensor([2.1536]) tensor(2.1552)\n",
      "tensor([2.1464]) tensor(2.1726)\n",
      "tensor([2.1420]) tensor(2.1293)\n",
      "tensor([2.1298]) tensor(2.1221)\n",
      "tensor([2.1190]) tensor(2.1323)\n",
      "tensor([2.1128]) tensor(2.1323)\n",
      "tensor([2.4597]) tensor(2.5007)\n",
      "tensor([2.1090]) tensor(2.1184)\n",
      "tensor([2.0837]) tensor(2.0851)\n",
      "tensor([2.0758]) tensor(2.0555)\n",
      "tensor([2.4336]) tensor(2.5071)\n",
      "tensor([2.0585]) tensor(2.0438)\n",
      "tensor([2.0549]) tensor(2.0385)\n",
      "tensor([2.0579]) tensor(2.0464)\n",
      "tensor([2.0658]) tensor(2.0686)\n",
      "tensor([2.0685]) tensor(2.0722)\n",
      "tensor([2.0527]) tensor(2.0529)\n",
      "tensor([2.0620]) tensor(2.0724)\n",
      "tensor([2.0529]) tensor(2.0489)\n",
      "tensor([2.0502]) tensor(2.0547)\n",
      "tensor([2.0458]) tensor(2.0577)\n",
      "tensor([2.4020]) tensor(2.3917)\n",
      "tensor([2.0411]) tensor(2.0677)\n",
      "tensor([2.0450]) tensor(2.0489)\n",
      "tensor([2.0420]) tensor(2.0498)\n",
      "tensor([2.3848]) tensor(2.3754)\n",
      "tensor([2.3543]) tensor(2.3678)\n",
      "tensor([1.9856]) tensor(2.0029)\n",
      "tensor([1.9929]) tensor(2.0129)\n",
      "tensor([1.9829]) tensor(1.9809)\n",
      "tensor([1.9798]) tensor(1.9993)\n",
      "tensor([1.9548]) tensor(1.9707)\n",
      "tensor([1.9608]) tensor(1.9702)\n",
      "tensor([2.3121]) tensor(2.3838)\n",
      "tensor([1.9245]) tensor(1.9421)\n",
      "tensor([1.9045]) tensor(1.9049)\n",
      "tensor([1.8965]) tensor(1.8971)\n",
      "tensor([1.8749]) tensor(1.8602)\n",
      "tensor([2.2691]) tensor(2.3116)\n",
      "tensor([2.2535]) tensor(2.2997)\n",
      "tensor([2.2403]) tensor(2.2855)\n",
      "tensor([1.8459]) tensor(1.8556)\n",
      "tensor([1.8439]) tensor(1.8404)\n",
      "tensor([1.8403]) tensor(1.8470)\n",
      "tensor([1.8290]) tensor(1.8454)\n",
      "tensor([2.2029]) tensor(2.2940)\n",
      "tensor([1.8168]) tensor(1.8175)\n",
      "tensor([1.8040]) tensor(1.8209)\n",
      "tensor([1.7920]) tensor(1.8011)\n",
      "tensor([2.1777]) tensor(2.3161)\n",
      "tensor([2.1662]) tensor(2.3217)\n",
      "tensor([1.7700]) tensor(1.8003)\n",
      "tensor([1.7635]) tensor(1.7997)\n",
      "tensor([1.7415]) tensor(1.7698)\n",
      "tensor([1.7572]) tensor(1.7776)\n",
      "tensor([2.1184]) tensor(2.3084)\n",
      "tensor(0.1900)\n"
     ]
    }
   ],
   "source": [
    "#evaluate model\n",
    "model.eval()\n",
    "with torch.no_grad():\n",
    "    for i in range(0, len(train_tensor)):\n",
    "            \n",
    "        train_out = model((train_tensor[i].unsqueeze(0)).float())\n",
    "        train_loss = criterion(train_out, train_label[i])\n",
    "        print(train_label[i], train_out[-1])\n",
    "print (train_loss)\n"
   ]
  },
  {
   "cell_type": "code",
   "execution_count": 68,
   "metadata": {},
   "outputs": [
    {
     "name": "stderr",
     "output_type": "stream",
     "text": [
      "/media/apk/84bd6553-82dd-4faa-9701-e84d64d75ed7/anaconda3/lib/python3.7/site-packages/torch/serialization.py:360: UserWarning: Couldn't retrieve source code for container of type LSTMNet. It won't be checked for correctness upon loading.\n",
      "  \"type \" + obj.__name__ + \". It won't be checked \"\n"
     ]
    }
   ],
   "source": [
    "torch.save(model, \"/home/apk/LSTMmodel\")"
   ]
  },
  {
   "cell_type": "code",
   "execution_count": 69,
   "metadata": {},
   "outputs": [],
   "source": [
    "torch.save(model.state_dict(), \"/home/apk/LSTMmodelstate\")"
   ]
  },
  {
   "cell_type": "code",
   "execution_count": 71,
   "metadata": {},
   "outputs": [],
   "source": [
    "torch.save({\n",
    "            'epoch': epoch,\n",
    "            'model_state_dict': model.state_dict(),\n",
    "            'optimizer_state_dict': optimizer.state_dict(),\n",
    "            'loss': loss\n",
    "            },\"/home/apk/LSTMmodelstate_all\")"
   ]
  },
  {
   "cell_type": "code",
   "execution_count": null,
   "metadata": {},
   "outputs": [],
   "source": []
  }
 ],
 "metadata": {
  "kernelspec": {
   "display_name": "Python 3",
   "language": "python",
   "name": "python3"
  },
  "language_info": {
   "codemirror_mode": {
    "name": "ipython",
    "version": 3
   },
   "file_extension": ".py",
   "mimetype": "text/x-python",
   "name": "python",
   "nbconvert_exporter": "python",
   "pygments_lexer": "ipython3",
   "version": "3.7.6"
  }
 },
 "nbformat": 4,
 "nbformat_minor": 4
}
