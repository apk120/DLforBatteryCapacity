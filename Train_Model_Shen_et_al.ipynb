{
 "cells": [
  {
   "cell_type": "code",
   "execution_count": 39,
   "metadata": {},
   "outputs": [],
   "source": [
    "import torch\n",
    "import torch.nn as nn\n",
    "import pandas as pd\n",
    "import numpy as np\n",
    "import matplotlib.pyplot as plt"
   ]
  },
  {
   "cell_type": "code",
   "execution_count": null,
   "metadata": {},
   "outputs": [],
   "source": [
    "device = torch.device('cuda:0' if torch.cuda.is_available() else 'cpu')\n",
    "print (device)"
   ]
  },
  {
   "cell_type": "code",
   "execution_count": 2,
   "metadata": {},
   "outputs": [],
   "source": [
    "#load data\n",
    "train_df = pd.read_excel('train.xlsx')\n",
    "test_df = pd.read_excel('test.xlsx')"
   ]
  },
  {
   "cell_type": "code",
   "execution_count": 3,
   "metadata": {},
   "outputs": [],
   "source": [
    "train_cycles = list(set(np.array(train_df['Cycle_Index'])))\n",
    "test_cycles = list(set(np.array(test_df['Cycle_Index'])))"
   ]
  },
  {
   "cell_type": "code",
   "execution_count": 14,
   "metadata": {},
   "outputs": [],
   "source": [
    "train_voltage = []\n",
    "train_current = []\n",
    "train_temp = []\n",
    "train_charge_cap = []\n",
    "train_discharge_cap = []\n",
    "for i in train_cycles:\n",
    "    dat = train_df[train_df['Cycle_Index'] == i]\n",
    "    train_voltage.append(np.array(dat['Voltage(V)']))\n",
    "    train_current.append(np.array(dat['Current(A)']))\n",
    "    train_temp.append(np.array(dat['Aux_Temperature(℃)_1']))\n",
    "    train_charge_cap.append(np.array(dat['Charge_Capacity(Ah)']))\n",
    "    train_discharge_cap.append(np.array(dat['Discharge_Capacity(Ah)']))"
   ]
  },
  {
   "cell_type": "code",
   "execution_count": 15,
   "metadata": {},
   "outputs": [],
   "source": [
    "#maximum length of time series is 362, so prepend zeros to make same length\n",
    "train_data =[]\n",
    "for i in range(0, len(train_cycles)):\n",
    "    d1 = list(np.zeros(362-len(train_voltage[i]))) + list(train_voltage[i])\n",
    "    d2 = list(np.zeros(362-len(train_current[i]))) + list(train_current[i])\n",
    "    d3 = list(np.zeros(362-len(train_charge_cap[i]))) + list(train_charge_cap[i])\n",
    "    d4 = list(np.zeros(362-len(train_temp[i]))) + list(train_temp[i])\n",
    "    train_data.append([d1, d2, d3, d4])\n",
    "train_data = np.array(train_data)"
   ]
  },
  {
   "cell_type": "code",
   "execution_count": 16,
   "metadata": {},
   "outputs": [],
   "source": [
    "train_labels = [train_discharge_cap[i][-1] for i in range(0, len(train_discharge_cap))]"
   ]
  },
  {
   "cell_type": "code",
   "execution_count": 17,
   "metadata": {},
   "outputs": [],
   "source": [
    "test_voltage = []\n",
    "test_current = []\n",
    "test_temp = []\n",
    "test_charge_cap = []\n",
    "test_discharge_cap = []\n",
    "for i in test_cycles:\n",
    "    dat = test_df[test_df['Cycle_Index'] == i]\n",
    "    test_voltage.append(np.array(dat['Voltage(V)']))\n",
    "    test_current.append(np.array(dat['Current(A)']))\n",
    "    test_temp.append(np.array(dat['Aux_Temperature(℃)_1']))\n",
    "    test_charge_cap.append(np.array(dat['Charge_Capacity(Ah)']))\n",
    "    test_discharge_cap.append(np.array(dat['Discharge_Capacity(Ah)']))\n",
    "\n",
    "test_data =[]\n",
    "for i in range(0, len(test_cycles)):\n",
    "    d1 = list(np.zeros(362-len(test_voltage[i]))) + list(test_voltage[i])\n",
    "    d2 = list(np.zeros(362-len(test_current[i]))) + list(test_current[i])\n",
    "    d3 = list(np.zeros(362-len(test_charge_cap[i]))) + list(test_charge_cap[i])\n",
    "    d4 = list(np.zeros(362-len(test_temp[i]))) + list(test_temp[i])\n",
    "    test_data.append([d1, d2, d3, d4])\n",
    "test_data = np.array(test_data)\n",
    "\n",
    "test_labels = [test_discharge_cap[i][-1] for i in range(0, len(test_discharge_cap))]"
   ]
  },
  {
   "cell_type": "code",
   "execution_count": 25,
   "metadata": {},
   "outputs": [],
   "source": [
    "train_tensor = torch.tensor(train_data)\n",
    "test_tensor = torch.tensor(test_data)\n",
    "train_label = torch.tensor(train_labels)\n",
    "test_label = torch.tensor(test_labels)"
   ]
  },
  {
   "cell_type": "code",
   "execution_count": 30,
   "metadata": {},
   "outputs": [],
   "source": [
    "train_label = train_label.view(171, 1) \n",
    "test_label = test_label.view(43, 1)"
   ]
  },
  {
   "cell_type": "code",
   "execution_count": 31,
   "metadata": {},
   "outputs": [
    {
     "name": "stdout",
     "output_type": "stream",
     "text": [
      "torch.Size([171, 1])\n",
      "torch.Size([43, 1])\n"
     ]
    }
   ],
   "source": [
    "print (train_label.shape)\n",
    "print (test_label.shape)"
   ]
  },
  {
   "cell_type": "code",
   "execution_count": 8,
   "metadata": {},
   "outputs": [
    {
     "name": "stdout",
     "output_type": "stream",
     "text": [
      "(171, 4, 362)\n"
     ]
    }
   ],
   "source": [
    "print(np.shape(train_data))"
   ]
  },
  {
   "cell_type": "code",
   "execution_count": 9,
   "metadata": {},
   "outputs": [],
   "source": [
    "#define the CNN model\n",
    "class ConvNet(nn.Module):\n",
    "    def __init__(self):\n",
    "        super(ConvNet, self).__init__()\n",
    "        self.layer1 = nn.Sequential(\n",
    "            nn.Conv1d(4, 16, kernel_size=5, stride=1, padding=2),\n",
    "            nn.BatchNorm1d(16),\n",
    "            nn.ReLU(),\n",
    "            nn.MaxPool1d(kernel_size=2, stride=1))\n",
    "        self.layer2 = nn.Sequential(\n",
    "            nn.Conv1d(16, 32, kernel_size=5, stride=1, padding=2),\n",
    "            nn.BatchNorm1d(32),\n",
    "            nn.ReLU(),\n",
    "            nn.MaxPool1d(kernel_size=2, stride=1))\n",
    "        self.layer3 = nn.Sequential(\n",
    "            nn.Conv1d(32, 64, kernel_size=5, stride=1, padding=2),\n",
    "            nn.BatchNorm1d(64),\n",
    "            nn.ReLU(),\n",
    "            nn.MaxPool1d(kernel_size=2, stride=1))\n",
    "        self.layer4 = nn.Sequential(\n",
    "            nn.Conv1d(64, 32, kernel_size=5, stride=1, padding=2),\n",
    "            nn.BatchNorm1d(32),\n",
    "            nn.ReLU(),\n",
    "            nn.MaxPool1d(kernel_size=2, stride=1))\n",
    "        self.layer5 = nn.Sequential(\n",
    "            nn.Conv1d(32, 16, kernel_size=5, stride=1, padding=2),\n",
    "            nn.BatchNorm1d(16),\n",
    "            nn.ReLU(),\n",
    "            nn.MaxPool1d(kernel_size=2, stride=1))\n",
    "        self.layer6 = nn.Sequential(\n",
    "            nn.Linear(16*357, 16*1024),\n",
    "            nn.BatchNorm1d(16*1024),\n",
    "            nn.ReLU())\n",
    "        self.layer7 = nn.Sequential(\n",
    "            nn.Linear(16*1024, 16*256),\n",
    "            nn.BatchNorm1d(16*256),\n",
    "            nn.ReLU())\n",
    "        self.layer8 = nn.Sequential(\n",
    "            nn.Linear(16*256, 16*64),\n",
    "            nn.BatchNorm1d(16*64),\n",
    "            nn.ReLU())\n",
    "        self.outlayer = nn.Linear(16*64, 1)\n",
    "        \n",
    "    def forward(self, x):\n",
    "        out = self.layer1(x)\n",
    "        out = self.layer2(out)\n",
    "        out = self.layer3(out)\n",
    "        out = self.layer4(out)\n",
    "        out = self.layer5(out)\n",
    "        out = out.reshape(out.size(0), -1)\n",
    "        out = self.layer6(out)\n",
    "        out = self.layer7(out)\n",
    "        out = self.layer8(out)\n",
    "        out = self.outlayer(out)\n",
    "        return out"
   ]
  },
  {
   "cell_type": "code",
   "execution_count": 10,
   "metadata": {},
   "outputs": [],
   "source": [
    "class RMSELoss(torch.nn.Module):\n",
    "    def __init__(self):\n",
    "        super(RMSELoss,self).__init__()\n",
    "\n",
    "    def forward(self,x,y):\n",
    "        criterion = nn.MSELoss()\n",
    "        loss = torch.sqrt(criterion(x, y))\n",
    "        return loss"
   ]
  },
  {
   "cell_type": "code",
   "execution_count": 54,
   "metadata": {},
   "outputs": [],
   "source": [
    "model = ConvNet()\n",
    "criterion = RMSELoss()\n",
    "optimizer = torch.optim.Adam(model.parameters(), lr=0.05)"
   ]
  },
  {
   "cell_type": "code",
   "execution_count": 61,
   "metadata": {},
   "outputs": [],
   "source": [
    "loss_list = []\n",
    "loss_list_test = []\n",
    "for epoch in range(0, 100):\n",
    "    \n",
    "    #forward pass\n",
    "    output = model(train_tensor.float())\n",
    "    loss = criterion(output, train_label)\n",
    "    loss_list.append(loss.item())\n",
    "    \n",
    "    #backward pass\n",
    "    optimizer.zero_grad()\n",
    "    loss.backward()\n",
    "    optimizer.step()\n",
    "    \n",
    "    #prediction\n",
    "    with torch.no_grad():\n",
    "        test_out = model(test_tensor.float())\n",
    "        test_loss = criterion(test_out, test_label)\n",
    "        loss_list_test.append(test_loss.item())"
   ]
  },
  {
   "cell_type": "code",
   "execution_count": 62,
   "metadata": {},
   "outputs": [
    {
     "data": {
      "text/plain": [
       "[<matplotlib.lines.Line2D at 0x7fef90c06650>]"
      ]
     },
     "execution_count": 62,
     "metadata": {},
     "output_type": "execute_result"
    },
    {
     "data": {
      "image/png": "[encoded data removed]",
      "text/plain": [
       "<Figure size 432x288 with 1 Axes>"
      ]
     },
     "metadata": {
      "needs_background": "light"
     },
     "output_type": "display_data"
    }
   ],
   "source": [
    "plt.plot(loss_list[10:])"
   ]
  },
  {
   "cell_type": "code",
   "execution_count": 63,
   "metadata": {},
   "outputs": [
    {
     "data": {
      "text/plain": [
       "[<matplotlib.lines.Line2D at 0x7fef8c453e90>]"
      ]
     },
     "execution_count": 63,
     "metadata": {},
     "output_type": "execute_result"
    },
    {
     "data": {
      "image/png": "[encoded data removed]",
      "text/plain": [
       "<Figure size 432x288 with 1 Axes>"
      ]
     },
     "metadata": {
      "needs_background": "light"
     },
     "output_type": "display_data"
    }
   ],
   "source": [
    "plt.plot(loss_list_test[10:])"
   ]
  },
  {
   "cell_type": "code",
   "execution_count": 64,
   "metadata": {},
   "outputs": [
    {
     "name": "stdout",
     "output_type": "stream",
     "text": [
      "tensor(0.0569)\n",
      "tensor([2.1854]) tensor([2.1417])\n",
      "tensor([2.5116]) tensor([2.4254])\n",
      "tensor([2.3120]) tensor([2.2430])\n",
      "tensor([2.3154]) tensor([2.2491])\n",
      "tensor([2.4350]) tensor([2.4008])\n",
      "tensor([2.3133]) tensor([2.2405])\n",
      "tensor([2.0516]) tensor([1.9962])\n",
      "tensor([2.6355]) tensor([2.5691])\n",
      "tensor([2.3123]) tensor([2.2363])\n",
      "tensor([2.3084]) tensor([2.2436])\n",
      "tensor([2.0539]) tensor([2.0152])\n",
      "tensor([2.0288]) tensor([1.9818])\n",
      "tensor([2.0146]) tensor([1.9460])\n",
      "tensor([2.0023]) tensor([1.9636])\n",
      "tensor([2.6274]) tensor([2.5589])\n",
      "tensor([2.3035]) tensor([2.2425])\n",
      "tensor([1.8940]) tensor([1.8397])\n",
      "tensor([2.2991]) tensor([2.2068])\n",
      "tensor([1.8690]) tensor([1.8306])\n",
      "tensor([2.2934]) tensor([2.2302])\n",
      "tensor([1.8510]) tensor([1.8167])\n",
      "tensor([2.2940]) tensor([2.2362])\n",
      "tensor([2.2310]) tensor([2.1546])\n",
      "tensor([1.8050]) tensor([1.7647])\n",
      "tensor([1.7948]) tensor([1.7513])\n",
      "tensor([2.2739]) tensor([2.2046])\n",
      "tensor([1.7846]) tensor([1.7572])\n",
      "tensor([1.7818]) tensor([1.7343])\n",
      "tensor([2.2775]) tensor([2.2199])\n",
      "tensor([1.7573]) tensor([1.7391])\n",
      "tensor([1.7343]) tensor([1.7350])\n",
      "tensor([2.2558]) tensor([2.2091])\n",
      "tensor([2.2563]) tensor([2.2037])\n",
      "tensor([2.2546]) tensor([2.1996])\n",
      "tensor([2.2569]) tensor([2.2151])\n",
      "tensor([2.2288]) tensor([2.1545])\n",
      "tensor([2.2257]) tensor([2.1751])\n",
      "tensor([2.2249]) tensor([2.1822])\n",
      "tensor([2.2178]) tensor([2.1737])\n",
      "tensor([2.2113]) tensor([2.1727])\n",
      "tensor([2.5405]) tensor([2.4756])\n",
      "tensor([2.5302]) tensor([2.4669])\n",
      "tensor([2.5254]) tensor([2.4569])\n"
     ]
    }
   ],
   "source": [
    "#evaluate model\n",
    "model.eval()\n",
    "with torch.no_grad():\n",
    "    test_out = model(test_tensor.float())\n",
    "    test_loss = criterion(test_out, test_label)\n",
    "print (test_loss)\n",
    "for i in range(0, 43):\n",
    "    print (test_label[i], test_out[i])"
   ]
  },
  {
   "cell_type": "code",
   "execution_count": null,
   "metadata": {},
   "outputs": [],
   "source": []
  }
 ],
 "metadata": {
  "kernelspec": {
   "display_name": "Python 3",
   "language": "python",
   "name": "python3"
  },
  "language_info": {
   "codemirror_mode": {
    "name": "ipython",
    "version": 3
   },
   "file_extension": ".py",
   "mimetype": "text/x-python",
   "name": "python",
   "nbconvert_exporter": "python",
   "pygments_lexer": "ipython3",
   "version": "3.7.6"
  }
 },
 "nbformat": 4,
 "nbformat_minor": 4
}
