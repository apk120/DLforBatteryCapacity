{
 "cells": [
  {
   "cell_type": "code",
   "execution_count": 1,
   "metadata": {},
   "outputs": [],
   "source": [
    "import torch\n",
    "import torch.nn as nn\n",
    "import pandas as pd\n",
    "import numpy as np\n",
    "import matplotlib.pyplot as plt"
   ]
  },
  {
   "cell_type": "code",
   "execution_count": 2,
   "metadata": {},
   "outputs": [],
   "source": [
    "#load data\n",
    "train_df = pd.read_excel('train.xlsx')\n",
    "test_df = pd.read_excel('test.xlsx')"
   ]
  },
  {
   "cell_type": "code",
   "execution_count": 3,
   "metadata": {},
   "outputs": [],
   "source": [
    "train_cycles = list(set(np.array(train_df['Cycle_Index'])))\n",
    "test_cycles = list(set(np.array(test_df['Cycle_Index'])))"
   ]
  },
  {
   "cell_type": "code",
   "execution_count": 4,
   "metadata": {},
   "outputs": [],
   "source": [
    "train_voltage = []\n",
    "train_current = []\n",
    "train_temp = []\n",
    "train_charge_cap = []\n",
    "train_discharge_cap = []\n",
    "for i in train_cycles:\n",
    "    dat = train_df[train_df['Cycle_Index'] == i]\n",
    "    train_voltage.append(np.array(dat['Voltage(V)']))\n",
    "    train_current.append(np.array(dat['Current(A)']))\n",
    "    train_temp.append(np.array(dat['Aux_Temperature(℃)_1']))\n",
    "    train_charge_cap.append(np.array(dat['Charge_Capacity(Ah)']))\n",
    "    train_discharge_cap.append(np.array(dat['Discharge_Capacity(Ah)']))"
   ]
  },
  {
   "cell_type": "code",
   "execution_count": 5,
   "metadata": {},
   "outputs": [],
   "source": [
    "#maximum length of time series is 362, so prepend zeros to make same length\n",
    "train_data =[]\n",
    "for i in range(0, len(train_cycles)):\n",
    "    d1 = list(np.zeros(362-len(train_voltage[i]))) + list(train_voltage[i])\n",
    "    d2 = list(np.zeros(362-len(train_current[i]))) + list(train_current[i])\n",
    "    d3 = list(np.zeros(362-len(train_charge_cap[i]))) + list(train_charge_cap[i])\n",
    "    d4 = list(np.zeros(362-len(train_temp[i]))) + list(train_temp[i])\n",
    "    train_data.append([d1, d2, d3, d4])\n",
    "train_data = np.array(train_data)\n",
    "\n",
    "train_labels = [train_discharge_cap[i][-1] for i in range(0, len(train_discharge_cap))]"
   ]
  },
  {
   "cell_type": "code",
   "execution_count": 6,
   "metadata": {},
   "outputs": [],
   "source": [
    "test_voltage = []\n",
    "test_current = []\n",
    "test_temp = []\n",
    "test_charge_cap = []\n",
    "test_discharge_cap = []\n",
    "for i in test_cycles:\n",
    "    dat = test_df[test_df['Cycle_Index'] == i]\n",
    "    test_voltage.append(np.array(dat['Voltage(V)']))\n",
    "    test_current.append(np.array(dat['Current(A)']))\n",
    "    test_temp.append(np.array(dat['Aux_Temperature(℃)_1']))\n",
    "    test_charge_cap.append(np.array(dat['Charge_Capacity(Ah)']))\n",
    "    test_discharge_cap.append(np.array(dat['Discharge_Capacity(Ah)']))\n",
    "\n",
    "test_data =[]\n",
    "for i in range(0, len(test_cycles)):\n",
    "    d1 = list(np.zeros(362-len(test_voltage[i]))) + list(test_voltage[i])\n",
    "    d2 = list(np.zeros(362-len(test_current[i]))) + list(test_current[i])\n",
    "    d3 = list(np.zeros(362-len(test_charge_cap[i]))) + list(test_charge_cap[i])\n",
    "    d4 = list(np.zeros(362-len(test_temp[i]))) + list(test_temp[i])\n",
    "    test_data.append([d1, d2, d3, d4])\n",
    "test_data = np.array(test_data)\n",
    "\n",
    "test_labels = [test_discharge_cap[i][-1] for i in range(0, len(test_discharge_cap))]"
   ]
  },
  {
   "cell_type": "code",
   "execution_count": 7,
   "metadata": {},
   "outputs": [],
   "source": [
    "train_tensor = torch.tensor(train_data)\n",
    "test_tensor = torch.tensor(test_data)\n",
    "train_label = torch.tensor(train_labels)\n",
    "test_label = torch.tensor(test_labels)\n",
    "train_label = train_label.view(171, 1) \n",
    "test_label = test_label.view(43, 1)"
   ]
  },
  {
   "cell_type": "code",
   "execution_count": 22,
   "metadata": {},
   "outputs": [
    {
     "name": "stdout",
     "output_type": "stream",
     "text": [
      "torch.Size([171, 1448])\n"
     ]
    }
   ],
   "source": [
    "train_tensor = train_tensor.reshape(train_tensor.size(0), -1)\n",
    "test_tensor = test_tensor.reshape(test_tensor.size(0), -1)\n",
    "print(train_tensor.size())"
   ]
  },
  {
   "cell_type": "code",
   "execution_count": 9,
   "metadata": {},
   "outputs": [],
   "source": [
    "class RMSELoss(torch.nn.Module):\n",
    "    def __init__(self):\n",
    "        super(RMSELoss,self).__init__()\n",
    "\n",
    "    def forward(self,x,y):\n",
    "        criterion = nn.MSELoss()\n",
    "        loss = torch.sqrt(criterion(x, y))\n",
    "        return loss"
   ]
  },
  {
   "cell_type": "code",
   "execution_count": 57,
   "metadata": {},
   "outputs": [],
   "source": [
    "#define the NN model\n",
    "class NeuralNet(nn.Module):\n",
    "    def __init__(self, in_features = 362*4):\n",
    "        super(NeuralNet, self).__init__()\n",
    "        self.layer1 = nn.Sequential(\n",
    "            nn.Linear(in_features, 256),\n",
    "            nn.BatchNorm1d(256),\n",
    "            nn.Dropout(0.05),\n",
    "            nn.ReLU())\n",
    "        self.layer2 = nn.Sequential(\n",
    "            nn.Linear(256, 64),\n",
    "            nn.BatchNorm1d(64),\n",
    "            nn.Dropout(0.1),\n",
    "            nn.ReLU())\n",
    "        \n",
    "        self.outlayer = nn.Linear(64, 1)\n",
    "        \n",
    "    def forward(self, x):\n",
    "        out = self.layer1(x)\n",
    "        out = self.layer2(out)\n",
    "        out = self.outlayer(out)\n",
    "        return out"
   ]
  },
  {
   "cell_type": "code",
   "execution_count": 65,
   "metadata": {},
   "outputs": [],
   "source": [
    "model = NeuralNet()\n",
    "criterion = RMSELoss()\n",
    "optimizer = torch.optim.Adam(model.parameters(), lr=0.0005)"
   ]
  },
  {
   "cell_type": "code",
   "execution_count": 66,
   "metadata": {},
   "outputs": [
    {
     "name": "stdout",
     "output_type": "stream",
     "text": [
      "0 2.5268054008483887 2.4619479179382324\n",
      "500 0.1642000377178192 0.22247405350208282\n",
      "1000 0.13939954340457916 0.1602640599012375\n",
      "1500 0.10956371575593948 0.1879052370786667\n",
      "2000 0.12153405696153641 0.19032856822013855\n",
      "2500 0.09676280617713928 0.15146152675151825\n",
      "3000 0.10860803723335266 0.15624086558818817\n",
      "3500 0.0940626934170723 0.15424366295337677\n",
      "4000 0.07897979021072388 0.15027309954166412\n",
      "4500 0.0788433700799942 0.1642603874206543\n",
      "5000 0.08682869374752045 0.13395413756370544\n",
      "5500 0.07573968172073364 0.1345652937889099\n",
      "6000 0.06598877161741257 0.1268647313117981\n",
      "6500 0.06145100295543671 0.11789406836032867\n",
      "7000 0.054488882422447205 0.10927101224660873\n",
      "7500 0.05688171461224556 0.11968092620372772\n",
      "8000 0.04701710864901543 0.1097407266497612\n",
      "8500 0.03887525200843811 0.09672592580318451\n",
      "9000 0.03924226760864258 0.11816857755184174\n",
      "9500 0.029084959998726845 0.09102729707956314\n"
     ]
    }
   ],
   "source": [
    "loss_list = []\n",
    "loss_list_test = []\n",
    "for epoch in range(0, 10000):\n",
    "    \n",
    "    #forward pass\n",
    "    output = model(train_tensor.float())\n",
    "    loss = criterion(output, train_label)\n",
    "    loss_list.append(loss.item())\n",
    "    \n",
    "    #backward pass\n",
    "    optimizer.zero_grad()\n",
    "    loss.backward()\n",
    "    optimizer.step()\n",
    "    \n",
    "    #prediction\n",
    "    with torch.no_grad():\n",
    "        test_out = model(test_tensor.float())\n",
    "        test_loss = criterion(test_out, test_label)\n",
    "        loss_list_test.append(test_loss.item())\n",
    "    if epoch%500 == 0:\n",
    "        print (epoch, loss_list[-1], loss_list_test[-1])"
   ]
  },
  {
   "cell_type": "code",
   "execution_count": 67,
   "metadata": {},
   "outputs": [
    {
     "data": {
      "text/plain": [
       "[<matplotlib.lines.Line2D at 0x7fa300aeafd0>]"
      ]
     },
     "execution_count": 67,
     "metadata": {},
     "output_type": "execute_result"
    },
    {
     "data": {
      "image/png": "[encoded data removed]",
      "text/plain": [
       "<Figure size 432x288 with 1 Axes>"
      ]
     },
     "metadata": {
      "needs_background": "light"
     },
     "output_type": "display_data"
    }
   ],
   "source": [
    "plt.plot(loss_list)\n",
    "plt.plot(loss_list_test)"
   ]
  },
  {
   "cell_type": "code",
   "execution_count": 68,
   "metadata": {},
   "outputs": [
    {
     "name": "stdout",
     "output_type": "stream",
     "text": [
      "tensor(0.0474)\n",
      "tensor([2.1854]) tensor([2.2562])\n",
      "tensor([2.5116]) tensor([2.5110])\n",
      "tensor([2.3120]) tensor([2.3419])\n",
      "tensor([2.3154]) tensor([2.3423])\n",
      "tensor([2.4350]) tensor([2.4646])\n",
      "tensor([2.3133]) tensor([2.3455])\n",
      "tensor([2.0516]) tensor([2.1353])\n",
      "tensor([2.6355]) tensor([2.6269])\n",
      "tensor([2.3123]) tensor([2.3335])\n",
      "tensor([2.3084]) tensor([2.3415])\n",
      "tensor([2.0539]) tensor([2.1437])\n",
      "tensor([2.0288]) tensor([2.1123])\n",
      "tensor([2.0146]) tensor([2.0421])\n",
      "tensor([2.0023]) tensor([2.0609])\n",
      "tensor([2.6274]) tensor([2.6170])\n",
      "tensor([2.3035]) tensor([2.3307])\n",
      "tensor([1.8940]) tensor([1.9451])\n",
      "tensor([2.2991]) tensor([2.3213])\n",
      "tensor([1.8690]) tensor([1.9297])\n",
      "tensor([2.2934]) tensor([2.3065])\n",
      "tensor([1.8510]) tensor([1.9029])\n",
      "tensor([2.2940]) tensor([2.3279])\n",
      "tensor([2.2310]) tensor([2.2205])\n",
      "tensor([1.8050]) tensor([1.8667])\n",
      "tensor([1.7948]) tensor([1.8464])\n",
      "tensor([2.2739]) tensor([2.3193])\n",
      "tensor([1.7846]) tensor([1.8497])\n",
      "tensor([1.7818]) tensor([1.8125])\n",
      "tensor([2.2775]) tensor([2.3104])\n",
      "tensor([1.7573]) tensor([1.8064])\n",
      "tensor([1.7343]) tensor([1.7856])\n",
      "tensor([2.2558]) tensor([2.3122])\n",
      "tensor([2.2563]) tensor([2.3038])\n",
      "tensor([2.2546]) tensor([2.3038])\n",
      "tensor([2.2569]) tensor([2.3111])\n",
      "tensor([2.2288]) tensor([2.2830])\n",
      "tensor([2.2257]) tensor([2.2845])\n",
      "tensor([2.2249]) tensor([2.2866])\n",
      "tensor([2.2178]) tensor([2.2810])\n",
      "tensor([2.2113]) tensor([2.2718])\n",
      "tensor([2.5405]) tensor([2.5449])\n",
      "tensor([2.5302]) tensor([2.5353])\n",
      "tensor([2.5254]) tensor([2.5308])\n"
     ]
    }
   ],
   "source": [
    "#evaluate model\n",
    "model.eval()\n",
    "with torch.no_grad():\n",
    "    test_out = model(test_tensor.float())\n",
    "    test_loss = criterion(test_out, test_label)\n",
    "print (test_loss)\n",
    "for i in range(0, 43):\n",
    "    print (test_label[i], test_out[i])"
   ]
  },
  {
   "cell_type": "code",
   "execution_count": 69,
   "metadata": {},
   "outputs": [],
   "source": [
    "torch.save({\n",
    "            'epoch': epoch,\n",
    "            'model_state_dict': model.state_dict(),\n",
    "            'optimizer_state_dict': optimizer.state_dict(),\n",
    "            'loss': loss\n",
    "            },\"/home/apk/NNMmodelstate_all\")"
   ]
  }
 ],
 "metadata": {
  "kernelspec": {
   "display_name": "Python 3",
   "language": "python",
   "name": "python3"
  },
  "language_info": {
   "codemirror_mode": {
    "name": "ipython",
    "version": 3
   },
   "file_extension": ".py",
   "mimetype": "text/x-python",
   "name": "python",
   "nbconvert_exporter": "python",
   "pygments_lexer": "ipython3",
   "version": "3.7.6"
  }
 },
 "nbformat": 4,
 "nbformat_minor": 4
}
